{
  "nbformat": 4,
  "nbformat_minor": 0,
  "metadata": {
    "colab": {
      "provenance": [],
      "collapsed_sections": []
    },
    "kernelspec": {
      "name": "python3",
      "display_name": "Python 3"
    },
    "language_info": {
      "name": "python"
    }
  },
  "cells": [
    {
      "cell_type": "markdown",
      "source": [
        "## AlexNet Complete Architecture"
      ],
      "metadata": {
        "id": "phvB_RQDx0bX"
      }
    },
    {
      "cell_type": "markdown",
      "source": [
        "### Introduction\n",
        "AlexNet was designed by **Hinton**, winner of the ***2012*** ***ImageNet competition***, and his student Alex Krizhevsky. It was also after that year that more and deeper neural networks were proposed, such as the excellent vgg, GoogleLeNet. Its official data model has an accuracy rate of **57.1%** and top 1-5 reaches **80.2%**. This is already quite outstanding for traditional machine learning classification algorithms.\n",
        "\n",
        "\n",
        "![title](https://raw.githubusercontent.com/blurred-machine/Data-Science/master/Deep%20Learning%20SOTA/img/alexnet.png)\n",
        "\n",
        "\n",
        "![title](https://raw.githubusercontent.com/blurred-machine/Data-Science/master/Deep%20Learning%20SOTA/img/alexnet2.png)\n"
      ],
      "metadata": {
        "id": "W3c24jkqx5Ei"
      }
    },
    {
      "cell_type": "markdown",
      "source": [
        "#### The following table below explains the network structure of AlexNet:\n",
        "\n",
        "<table>\n",
        "<thead>\n",
        "\t<tr>\n",
        "\t\t<th>Size / Operation</th>\n",
        "\t\t<th>Filter</th>\n",
        "\t\t<th>Depth</th>\n",
        "\t\t<th>Stride</th>\n",
        "\t\t<th>Padding</th>\n",
        "\t\t<th>Number of Parameters</th>\n",
        "\t\t<th>Forward Computation</th>\n",
        "\t</tr>\n",
        "</thead>\n",
        "<tbody>\n",
        "\t<tr>\n",
        "\t\t<td>3* 227 * 227</td>\n",
        "\t\t<td></td>\n",
        "\t\t<td></td>\n",
        "\t\t<td></td>\n",
        "\t\t<td></td>\n",
        "\t\t<td></td>\n",
        "\t\t<td></td>\n",
        "\t</tr>\n",
        "\t<tr>\n",
        "\t\t<td>Conv1 + Relu</td>\n",
        "\t\t<td>11 * 11</td>\n",
        "\t\t<td>96</td>\n",
        "\t\t<td>4</td>\n",
        "\t\t<td></td>\n",
        "\t\t<td>(11*11*3 + 1) * 96=34944</td>\n",
        "\t\t<td>(11*11*3 + 1) * 96 * 55 * 55=105705600</td>\n",
        "\t</tr>\n",
        "\t<tr>\n",
        "\t\t<td>96 * 55 * 55</td>\n",
        "\t\t<td></td>\n",
        "\t\t<td></td>\n",
        "\t\t<td></td>\n",
        "\t\t<td></td>\n",
        "\t\t<td></td>\n",
        "\t\t<td></td>\n",
        "\t</tr>\n",
        "\t<tr>\n",
        "\t\t<td>Max Pooling</td>\n",
        "\t\t<td>3 * 3</td>\n",
        "\t\t<td></td>\n",
        "\t\t<td>2</td>\n",
        "\t\t<td></td>\n",
        "\t\t<td></td>\n",
        "\t\t<td></td>\n",
        "\t</tr>\n",
        "\t<tr>\n",
        "\t\t<td>96 * 27 * 27</td>\n",
        "\t\t<td></td>\n",
        "\t\t<td></td>\n",
        "\t\t<td></td>\n",
        "\t\t<td></td>\n",
        "\t\t<td></td>\n",
        "\t\t<td></td>\n",
        "\t</tr>\n",
        "\t<tr>\n",
        "\t\t<td>Norm</td>\n",
        "\t\t<td></td>\n",
        "\t\t<td></td>\n",
        "\t\t<td></td>\n",
        "\t\t<td></td>\n",
        "\t\t<td></td>\n",
        "\t\t<td></td>\n",
        "\t</tr>\n",
        "\t<tr>\n",
        "\t\t<td>Conv2 + Relu</td>\n",
        "\t\t<td>5 * 5</td>\n",
        "\t\t<td>256</td>\n",
        "\t\t<td>1</td>\n",
        "\t\t<td>2</td>\n",
        "\t\t<td>(5 * 5 * 96 + 1) * 256=614656</td>\n",
        "\t\t<td>(5 * 5 * 96 + 1) * 256 * 27 * 27=448084224</td>\n",
        "\t</tr>\n",
        "\t<tr>\n",
        "\t\t<td>256 * 27 * 27</td>\n",
        "\t\t<td></td>\n",
        "\t\t<td></td>\n",
        "\t\t<td></td>\n",
        "\t\t<td></td>\n",
        "\t\t<td></td>\n",
        "\t\t<td></td>\n",
        "\t</tr>\n",
        "\t<tr>\n",
        "\t\t<td>Max Pooling</td>\n",
        "\t\t<td>3 * 3</td>\n",
        "\t\t<td></td>\n",
        "\t\t<td>2</td>\n",
        "\t\t<td></td>\n",
        "\t\t<td></td>\n",
        "\t\t<td></td>\n",
        "\t</tr>\n",
        "\t<tr>\n",
        "\t\t<td>256 * 13 * 13</td>\n",
        "\t\t<td></td>\n",
        "\t\t<td></td>\n",
        "\t\t<td></td>\n",
        "\t\t<td></td>\n",
        "\t\t<td></td>\n",
        "\t\t<td></td>\n",
        "\t</tr>\n",
        "\t<tr>\n",
        "\t\t<td>Norm</td>\n",
        "\t\t<td></td>\n",
        "\t\t<td></td>\n",
        "\t\t<td></td>\n",
        "\t\t<td></td>\n",
        "\t\t<td></td>\n",
        "\t\t<td></td>\n",
        "\t</tr>\n",
        "\t<tr>\n",
        "\t\t<td>Conv3 + Relu</td>\n",
        "\t\t<td>3 * 3</td>\n",
        "\t\t<td>384</td>\n",
        "\t\t<td>1</td>\n",
        "\t\t<td>1</td>\n",
        "\t\t<td>(3 * 3 * 256 + 1) * 384=885120</td>\n",
        "\t\t<td>(3 * 3 * 256 + 1) * 384 * 13 * 13=149585280</td>\n",
        "\t</tr>\n",
        "\t<tr>\n",
        "\t\t<td>384 * 13 * 13</td>\n",
        "\t\t<td></td>\n",
        "\t\t<td></td>\n",
        "\t\t<td></td>\n",
        "\t\t<td></td>\n",
        "\t\t<td></td>\n",
        "\t\t<td></td>\n",
        "\t</tr>\n",
        "\t<tr>\n",
        "\t\t<td>Conv4 + Relu</td>\n",
        "\t\t<td>3 * 3</td>\n",
        "\t\t<td>384</td>\n",
        "\t\t<td>1</td>\n",
        "\t\t<td>1</td>\n",
        "\t\t<td>(3 * 3 * 384 + 1) * 384=1327488</td>\n",
        "\t\t<td>(3 * 3 * 384 + 1) * 384 * 13 * 13=224345472</td>\n",
        "\t</tr>\n",
        "\t<tr>\n",
        "\t\t<td>384 * 13 * 13</td>\n",
        "\t\t<td></td>\n",
        "\t\t<td></td>\n",
        "\t\t<td></td>\n",
        "\t\t<td></td>\n",
        "\t\t<td></td>\n",
        "\t\t<td></td>\n",
        "\t</tr>\n",
        "\t<tr>\n",
        "\t\t<td>Conv5 + Relu</td>\n",
        "\t\t<td>3 * 3</td>\n",
        "\t\t<td>256</td>\n",
        "\t\t<td>1</td>\n",
        "\t\t<td>1</td>\n",
        "\t\t<td>(3 * 3 * 384 + 1) * 256=884992</td>\n",
        "\t\t<td>(3 * 3 * 384 + 1) * 256 * 13 * 13=149563648</td>\n",
        "\t</tr>\n",
        "\t<tr>\n",
        "\t\t<td>256 * 13 * 13</td>\n",
        "\t\t<td></td>\n",
        "\t\t<td></td>\n",
        "\t\t<td></td>\n",
        "\t\t<td></td>\n",
        "\t\t<td></td>\n",
        "\t\t<td></td>\n",
        "\t</tr>\n",
        "\t<tr>\n",
        "\t\t<td>Max Pooling</td>\n",
        "\t\t<td>3 * 3</td>\n",
        "\t\t<td></td>\n",
        "\t\t<td>2</td>\n",
        "\t\t<td></td>\n",
        "\t\t<td></td>\n",
        "\t\t<td></td>\n",
        "\t</tr>\n",
        "\t<tr>\n",
        "\t\t<td>256 * 6 * 6</td>\n",
        "\t\t<td></td>\n",
        "\t\t<td></td>\n",
        "\t\t<td></td>\n",
        "\t\t<td></td>\n",
        "\t\t<td></td>\n",
        "\t\t<td></td>\n",
        "\t</tr>\n",
        "\t<tr>\n",
        "\t\t<td>Dropout (rate 0.5)</td>\n",
        "\t\t<td></td>\n",
        "\t\t<td></td>\n",
        "\t\t<td></td>\n",
        "\t\t<td></td>\n",
        "\t\t<td></td>\n",
        "\t\t<td></td>\n",
        "\t</tr>\n",
        "\t<tr>\n",
        "\t\t<td>FC6 + Relu</td>\n",
        "\t\t<td></td>\n",
        "\t\t<td></td>\n",
        "\t\t<td></td>\n",
        "\t\t<td></td>\n",
        "\t\t<td>256 * 6 * 6 * 4096=37748736</td>\n",
        "\t\t<td>256 * 6 * 6 * 4096=37748736</td>\n",
        "\t</tr>\n",
        "\t<tr>\n",
        "\t\t<td>4096</td>\n",
        "\t\t<td></td>\n",
        "\t\t<td></td>\n",
        "\t\t<td></td>\n",
        "\t\t<td></td>\n",
        "\t\t<td></td>\n",
        "\t\t<td></td>\n",
        "\t</tr>\n",
        "\t<tr>\n",
        "\t\t<td>Dropout (rate 0.5)</td>\n",
        "\t\t<td></td>\n",
        "\t\t<td></td>\n",
        "\t\t<td></td>\n",
        "\t\t<td></td>\n",
        "\t\t<td></td>\n",
        "\t\t<td></td>\n",
        "\t</tr>\n",
        "\t<tr>\n",
        "\t\t<td>FC7 + Relu</td>\n",
        "\t\t<td></td>\n",
        "\t\t<td></td>\n",
        "\t\t<td></td>\n",
        "\t\t<td></td>\n",
        "\t\t<td>4096 * 4096=16777216</td>\n",
        "\t\t<td>4096 * 4096=16777216</td>\n",
        "\t</tr>\n",
        "\t<tr>\n",
        "\t\t<td>4096</td>\n",
        "\t\t<td></td>\n",
        "\t\t<td></td>\n",
        "\t\t<td></td>\n",
        "\t\t<td></td>\n",
        "\t\t<td></td>\n",
        "\t\t<td></td>\n",
        "\t</tr>\n",
        "\t<tr>\n",
        "\t\t<td>FC8 + Relu</td>\n",
        "\t\t<td></td>\n",
        "\t\t<td></td>\n",
        "\t\t<td></td>\n",
        "\t\t<td></td>\n",
        "\t\t<td>4096 * 1000=4096000</td>\n",
        "\t\t<td>4096 * 1000=4096000</td>\n",
        "\t</tr>\n",
        "\t<tr>\n",
        "\t\t<td>1000 classes</td>\n",
        "\t\t<td></td>\n",
        "\t\t<td></td>\n",
        "\t\t<td></td>\n",
        "\t\t<td></td>\n",
        "\t\t<td></td>\n",
        "\t\t<td></td>\n",
        "\t</tr>\n",
        "\t<tr>\n",
        "\t\t<td>Overall</td>\n",
        "\t\t<td></td>\n",
        "\t\t<td></td>\n",
        "\t\t<td></td>\n",
        "\t\t<td></td>\n",
        "\t\t<td>62369152=62.3 million</td>\n",
        "\t\t<td>1135906176=1.1 billion</td>\n",
        "\t</tr>\n",
        "\t<tr>\n",
        "\t\t<td>Conv VS FC</td>\n",
        "\t\t<td></td>\n",
        "\t\t<td></td>\n",
        "\t\t<td></td>\n",
        "\t\t<td></td>\n",
        "\t\t<td>Conv:3.7million (6%) , FC: 58.6 million  (94% )</td>\n",
        "\t\t<td>Conv: 1.08 billion (95%) , FC: 58.6 million (5%)</td>\n",
        "\t</tr>\n",
        "</tbody>\n",
        "</table>\n",
        "\n",
        "\n",
        "\n"
      ],
      "metadata": {
        "id": "68DiPE0ux_7i"
      }
    },
    {
      "cell_type": "markdown",
      "source": [
        "## Why does AlexNet achieve better results?\n",
        "\n",
        "### **Relu activation function is used:**\n",
        "- Relu function: f (x) = max (0, x)\n",
        "\n",
        "![alex1](https://raw.githubusercontent.com/blurred-machine/Data-Science/master/Deep%20Learning%20SOTA/img/alex512.png)\n",
        "\n",
        "- ReLU-based deep convolutional networks are trained several times faster than tanh and sigmoid- based networks. The following figure shows the number of iterations for a four-layer convolutional network based on CIFAR-10 that reached 25% training error in tanh and ReLU:\n",
        "\n",
        "![alex1](https://raw.githubusercontent.com/blurred-machine/Data-Science/master/Deep%20Learning%20SOTA/img/alex612.png)\n",
        "\n",
        "### **Standardization (Local Response Normalization):**\n",
        "- After using ReLU f (x) = max (0, x), you will find that the value after the activation function has no range like the tanh and sigmoid functions, so a normalization will usually be done after ReLU, and the LRU is a steady proposal (Not sure here, it should be proposed?) One method in neuroscience is called \"Lateral inhibition\", which talks about the effect of active neurons on its surrounding neurons.\n",
        "\n",
        "![alex1](https://raw.githubusercontent.com/blurred-machine/Data-Science/master/Deep%20Learning%20SOTA/img/alex3.jpg)\n",
        "\n",
        "\n",
        "### **Dropout:**\n",
        "- Dropout is also a concept often said, which can effectively prevent overfitting of neural networks. Compared to the general linear model, a regular method is used to prevent the model from overfitting. In the neural network, Dropout is implemented by modifying the structure of the neural network itself. For a certain layer of neurons, randomly delete some neurons with a defined probability, while keeping the individuals of the input layer and output layer neurons unchanged, and then update the parameters according to the learning method of the neural network. In the next iteration, rerandom Remove some neurons until the end of training.\n",
        "\n",
        "\n",
        "![alex1](https://raw.githubusercontent.com/blurred-machine/Data-Science/master/Deep%20Learning%20SOTA/img/alex4.jpg)\n",
        "\n",
        "\n",
        "### **Enhanced Data (Data Augmentation):**\n",
        "\n",
        "**In deep learning, when the amount of data is not large enough, there are generally 4 solutions:**\n",
        "\n",
        "- Data augmentation- artificially increase the size of the training set-create a batch of \"new\" data from existing data by means of translation, flipping, noise\n",
        "\n",
        "- Regularization——The relatively small amount of data will cause the model to overfit, making the training error small and the test error particularly large. By adding a regular term after the Loss Function , the overfitting can be suppressed. The disadvantage is that a need is introduced Manually adjusted hyper-parameter.\n",
        "\n",
        "- Dropout- also a regularization method. But different from the above, it is achieved by randomly setting the output of some neurons to zero\n",
        "\n",
        "- Unsupervised Pre-training- use Auto-Encoder or RBM's convolution form to do unsupervised pre-training layer by layer, and finally add a classification layer to do supervised Fine-Tuning\n",
        "\n",
        "\n",
        "\n",
        "\n"
      ],
      "metadata": {
        "id": "2N8CvOCyyFk4"
      }
    },
    {
      "cell_type": "code",
      "execution_count": null,
      "metadata": {
        "id": "IqDCYCoSZ3om"
      },
      "outputs": [],
      "source": [
        "import tensorflow as tf\n",
        "from tensorflow import keras\n",
        "import matplotlib.pyplot as plt\n",
        "import os\n",
        "import time"
      ]
    },
    {
      "cell_type": "code",
      "source": [
        "(train_images, train_labels), (test_images, test_labels) = keras.datasets.cifar10.load_data()"
      ],
      "metadata": {
        "id": "Xd6gcp2caJ1S"
      },
      "execution_count": null,
      "outputs": []
    },
    {
      "cell_type": "code",
      "source": [
        "CLASS_NAMES= ['airplane', 'automobile', 'bird', 'cat', 'deer', 'dog', 'frog', 'horse', 'ship', 'truck']"
      ],
      "metadata": {
        "id": "8uN0-qTMaNQy"
      },
      "execution_count": null,
      "outputs": []
    },
    {
      "cell_type": "code",
      "source": [
        "validation_images, validation_labels = train_images[:50], train_labels[:50]\n",
        "train_images, train_labels = train_images[150:200], train_labels[150:200]"
      ],
      "metadata": {
        "id": "ao4Nn06vaSCf"
      },
      "execution_count": null,
      "outputs": []
    },
    {
      "cell_type": "code",
      "source": [
        "train_ds = tf.data.Dataset.from_tensor_slices((train_images, train_labels))\n",
        "test_ds = tf.data.Dataset.from_tensor_slices((test_images, test_labels))\n",
        "validation_ds = tf.data.Dataset.from_tensor_slices((validation_images, validation_labels))\n"
      ],
      "metadata": {
        "id": "tMF9iiovaVSO"
      },
      "execution_count": null,
      "outputs": []
    },
    {
      "cell_type": "code",
      "source": [
        "validation_images.shape\n"
      ],
      "metadata": {
        "colab": {
          "base_uri": "https://localhost:8080/"
        },
        "id": "38HenisRljYq",
        "outputId": "6130d4db-e792-4b94-8e49-f56105c5c013"
      },
      "execution_count": null,
      "outputs": [
        {
          "output_type": "execute_result",
          "data": {
            "text/plain": [
              "(50, 32, 32, 3)"
            ]
          },
          "metadata": {},
          "execution_count": 12
        }
      ]
    },
    {
      "cell_type": "code",
      "source": [
        "train_images.shape\n",
        "# train_labels.shape"
      ],
      "metadata": {
        "colab": {
          "base_uri": "https://localhost:8080/"
        },
        "id": "FYyHrMIBmreg",
        "outputId": "b92f7c5b-183a-4e7e-f8cf-5376f77d74e6"
      },
      "execution_count": null,
      "outputs": [
        {
          "output_type": "execute_result",
          "data": {
            "text/plain": [
              "(50, 32, 32, 3)"
            ]
          },
          "metadata": {},
          "execution_count": 14
        }
      ]
    },
    {
      "cell_type": "code",
      "source": [
        "validation_labels.shape"
      ],
      "metadata": {
        "colab": {
          "base_uri": "https://localhost:8080/"
        },
        "id": "lW0Tpl3fmr6B",
        "outputId": "95e23e6c-3fbc-4775-ebfc-3f327eff3d2c"
      },
      "execution_count": null,
      "outputs": [
        {
          "output_type": "execute_result",
          "data": {
            "text/plain": [
              "(50, 1)"
            ]
          },
          "metadata": {},
          "execution_count": 13
        }
      ]
    },
    {
      "cell_type": "code",
      "source": [],
      "metadata": {
        "id": "5Inj-3M7ljbf"
      },
      "execution_count": null,
      "outputs": []
    },
    {
      "cell_type": "code",
      "source": [
        "plt.figure(figsize=(20,20))\n",
        "for i, (image, label) in enumerate(train_ds.take(5)):\n",
        "    ax = plt.subplot(5,5,i+1)\n",
        "    plt.imshow(image)\n",
        "    plt.title(CLASS_NAMES[label.numpy()[0]])\n",
        "    plt.axis('off')"
      ],
      "metadata": {
        "colab": {
          "base_uri": "https://localhost:8080/",
          "height": 234
        },
        "id": "GZOZ0b2_aZXp",
        "outputId": "28298d94-7248-4a25-ea10-4805b101bc2f"
      },
      "execution_count": null,
      "outputs": [
        {
          "output_type": "display_data",
          "data": {
            "text/plain": [
              "<Figure size 1440x1440 with 5 Axes>"
            ],
            "image/png": "[encoded data removed]"
          },
          "metadata": {
            "needs_background": "light"
          }
        }
      ]
    },
    {
      "cell_type": "code",
      "source": [
        "def process_images(image, label):\n",
        "    # Normalize images to have a mean of 0 and standard deviation of 1\n",
        "    image = tf.image.per_image_standardization(image)\n",
        "    # Resize images from 32x32 to 277x277\n",
        "    image = tf.image.resize(image, (227,227))\n",
        "    return image, label\n"
      ],
      "metadata": {
        "id": "MjBs-9ugadi_"
      },
      "execution_count": null,
      "outputs": []
    },
    {
      "cell_type": "code",
      "source": [
        "train_ds_size = tf.data.experimental.cardinality(train_ds).numpy()\n",
        "test_ds_size = tf.data.experimental.cardinality(test_ds).numpy()\n",
        "validation_ds_size = tf.data.experimental.cardinality(validation_ds).numpy()\n",
        "print(\"Training data size:\", train_ds_size)\n",
        "print(\"Test data size:\", test_ds_size)\n",
        "print(\"Validation data size:\", validation_ds_size)"
      ],
      "metadata": {
        "colab": {
          "base_uri": "https://localhost:8080/"
        },
        "id": "dfDH-tsCaoKJ",
        "outputId": "a37b1f10-baba-462b-923b-536bee53ceb6"
      },
      "execution_count": null,
      "outputs": [
        {
          "output_type": "stream",
          "name": "stdout",
          "text": [
            "Training data size: 50\n",
            "Test data size: 10000\n",
            "Validation data size: 50\n"
          ]
        }
      ]
    },
    {
      "cell_type": "code",
      "source": [
        "train_ds = (train_ds\n",
        "                  .map(process_images)\n",
        "                  .shuffle(buffer_size=train_ds_size)\n",
        "                  .batch(batch_size=32, drop_remainder=True))\n",
        "test_ds = (test_ds\n",
        "                  .map(process_images)\n",
        "                  .shuffle(buffer_size=train_ds_size)\n",
        "                  .batch(batch_size=32, drop_remainder=True))\n",
        "validation_ds = (validation_ds\n",
        "                  .map(process_images)\n",
        "                  .shuffle(buffer_size=train_ds_size)\n",
        "                  .batch(batch_size=32, drop_remainder=True))"
      ],
      "metadata": {
        "id": "6x4yrXAmaxQW"
      },
      "execution_count": null,
      "outputs": []
    },
    {
      "cell_type": "code",
      "source": [
        "model = keras.models.Sequential([\n",
        "    keras.layers.Conv2D(filters=96, kernel_size=(11,11), strides=(4,4), activation='relu', input_shape=(227,227,3)),\n",
        "    keras.layers.BatchNormalization(),\n",
        "    keras.layers.MaxPool2D(pool_size=(3,3), strides=(2,2)),\n",
        "    keras.layers.Conv2D(filters=256, kernel_size=(5,5), strides=(1,1), activation='relu', padding=\"same\"),\n",
        "    keras.layers.BatchNormalization(),\n",
        "    keras.layers.MaxPool2D(pool_size=(3,3), strides=(2,2)),\n",
        "    keras.layers.Conv2D(filters=384, kernel_size=(3,3), strides=(1,1), activation='relu', padding=\"same\"),\n",
        "    keras.layers.BatchNormalization(),\n",
        "    keras.layers.Conv2D(filters=384, kernel_size=(3,3), strides=(1,1), activation='relu', padding=\"same\"),\n",
        "    keras.layers.BatchNormalization(),\n",
        "    keras.layers.Conv2D(filters=256, kernel_size=(3,3), strides=(1,1), activation='relu', padding=\"same\"),\n",
        "    keras.layers.BatchNormalization(),\n",
        "    keras.layers.MaxPool2D(pool_size=(3,3), strides=(2,2)),\n",
        "    keras.layers.Flatten(),\n",
        "    keras.layers.Dense(4096, activation='relu'),\n",
        "    keras.layers.Dropout(0.5),\n",
        "    keras.layers.Dense(4096, activation='relu'),\n",
        "    keras.layers.Dropout(0.5),\n",
        "    keras.layers.Dense(10, activation='softmax')\n",
        "])"
      ],
      "metadata": {
        "id": "p_vyf_Qla76Y"
      },
      "execution_count": null,
      "outputs": []
    },
    {
      "cell_type": "code",
      "source": [
        "root_logdir = os.path.join(os.curdir, \"logs\\\\fit\\\\\")\n",
        "def get_run_logdir():\n",
        "    run_id = time.strftime(\"run_%Y_%m_%d-%H_%M_%S\")\n",
        "    return os.path.join(root_logdir, run_id)\n",
        "run_logdir = get_run_logdir()\n",
        "tensorboard_cb = keras.callbacks.TensorBoard(run_logdir)"
      ],
      "metadata": {
        "id": "EpKq-5oubB8J"
      },
      "execution_count": null,
      "outputs": []
    },
    {
      "cell_type": "code",
      "source": [
        "model.compile(loss='sparse_categorical_crossentropy', optimizer=tf.optimizers.SGD(lr=0.001), metrics=['accuracy'])\n",
        "model.summary()\n"
      ],
      "metadata": {
        "colab": {
          "base_uri": "https://localhost:8080/"
        },
        "id": "rB8dugHIbFQN",
        "outputId": "fad43031-e77e-4287-daff-a6214ff1feab"
      },
      "execution_count": null,
      "outputs": [
        {
          "output_type": "stream",
          "name": "stdout",
          "text": [
            "Model: \"sequential_1\"\n",
            "_________________________________________________________________\n",
            " Layer (type)                Output Shape              Param #   \n",
            "=================================================================\n",
            " conv2d_5 (Conv2D)           (None, 55, 55, 96)        34944     \n",
            "                                                                 \n",
            " batch_normalization_5 (Batc  (None, 55, 55, 96)       384       \n",
            " hNormalization)                                                 \n",
            "                                                                 \n",
            " max_pooling2d_3 (MaxPooling  (None, 27, 27, 96)       0         \n",
            " 2D)                                                             \n",
            "                                                                 \n",
            " conv2d_6 (Conv2D)           (None, 27, 27, 256)       614656    \n",
            "                                                                 \n",
            " batch_normalization_6 (Batc  (None, 27, 27, 256)      1024      \n",
            " hNormalization)                                                 \n",
            "                                                                 \n",
            " max_pooling2d_4 (MaxPooling  (None, 13, 13, 256)      0         \n",
            " 2D)                                                             \n",
            "                                                                 \n",
            " conv2d_7 (Conv2D)           (None, 13, 13, 384)       885120    \n",
            "                                                                 \n",
            " batch_normalization_7 (Batc  (None, 13, 13, 384)      1536      \n",
            " hNormalization)                                                 \n",
            "                                                                 \n",
            " conv2d_8 (Conv2D)           (None, 13, 13, 384)       1327488   \n",
            "                                                                 \n",
            " batch_normalization_8 (Batc  (None, 13, 13, 384)      1536      \n",
            " hNormalization)                                                 \n",
            "                                                                 \n",
            " conv2d_9 (Conv2D)           (None, 13, 13, 256)       884992    \n",
            "                                                                 \n",
            " batch_normalization_9 (Batc  (None, 13, 13, 256)      1024      \n",
            " hNormalization)                                                 \n",
            "                                                                 \n",
            " max_pooling2d_5 (MaxPooling  (None, 6, 6, 256)        0         \n",
            " 2D)                                                             \n",
            "                                                                 \n",
            " flatten_1 (Flatten)         (None, 9216)              0         \n",
            "                                                                 \n",
            " dense_3 (Dense)             (None, 4096)              37752832  \n",
            "                                                                 \n",
            " dropout_2 (Dropout)         (None, 4096)              0         \n",
            "                                                                 \n",
            " dense_4 (Dense)             (None, 4096)              16781312  \n",
            "                                                                 \n",
            " dropout_3 (Dropout)         (None, 4096)              0         \n",
            "                                                                 \n",
            " dense_5 (Dense)             (None, 10)                40970     \n",
            "                                                                 \n",
            "=================================================================\n",
            "Total params: 58,327,818\n",
            "Trainable params: 58,325,066\n",
            "Non-trainable params: 2,752\n",
            "_________________________________________________________________\n"
          ]
        },
        {
          "output_type": "stream",
          "name": "stderr",
          "text": [
            "/usr/local/lib/python3.7/dist-packages/keras/optimizer_v2/gradient_descent.py:102: UserWarning: The `lr` argument is deprecated, use `learning_rate` instead.\n",
            "  super(SGD, self).__init__(name, **kwargs)\n"
          ]
        }
      ]
    },
    {
      "cell_type": "code",
      "source": [
        "model.fit(train_ds,\n",
        "          epochs=10,\n",
        "          validation_data=validation_ds,\n",
        "          validation_freq=1,\n",
        "          callbacks=[tensorboard_cb])"
      ],
      "metadata": {
        "colab": {
          "base_uri": "https://localhost:8080/"
        },
        "id": "SHdzbYYZbzs6",
        "outputId": "72bc3482-46a7-477f-8f66-3b3bc6762741"
      },
      "execution_count": null,
      "outputs": [
        {
          "output_type": "stream",
          "name": "stdout",
          "text": [
            "Epoch 1/10\n",
            "1/1 [==============================] - 10s 10s/step - loss: 5.1153 - accuracy: 0.2188 - val_loss: 2.3042 - val_accuracy: 0.0938\n",
            "Epoch 2/10\n",
            "1/1 [==============================] - 6s 6s/step - loss: 4.7145 - accuracy: 0.1250 - val_loss: 2.3016 - val_accuracy: 0.1250\n",
            "Epoch 3/10\n",
            "1/1 [==============================] - 7s 7s/step - loss: 4.5077 - accuracy: 0.0938 - val_loss: 2.3111 - val_accuracy: 0.0625\n",
            "Epoch 4/10\n",
            "1/1 [==============================] - 6s 6s/step - loss: 4.1234 - accuracy: 0.1562 - val_loss: 2.3019 - val_accuracy: 0.0625\n",
            "Epoch 5/10\n",
            "1/1 [==============================] - 6s 6s/step - loss: 3.7042 - accuracy: 0.1250 - val_loss: 2.2988 - val_accuracy: 0.1250\n",
            "Epoch 6/10\n",
            "1/1 [==============================] - 6s 6s/step - loss: 3.7523 - accuracy: 0.1875 - val_loss: 2.3041 - val_accuracy: 0.1250\n",
            "Epoch 7/10\n",
            "1/1 [==============================] - 6s 6s/step - loss: 3.3383 - accuracy: 0.2812 - val_loss: 2.3034 - val_accuracy: 0.0625\n",
            "Epoch 8/10\n",
            "1/1 [==============================] - 6s 6s/step - loss: 3.3437 - accuracy: 0.2500 - val_loss: 2.3031 - val_accuracy: 0.1562\n",
            "Epoch 9/10\n",
            "1/1 [==============================] - 6s 6s/step - loss: 2.6229 - accuracy: 0.3438 - val_loss: 2.3149 - val_accuracy: 0.0938\n",
            "Epoch 10/10\n",
            "1/1 [==============================] - 6s 6s/step - loss: 1.9742 - accuracy: 0.3750 - val_loss: 2.3077 - val_accuracy: 0.0938\n"
          ]
        },
        {
          "output_type": "execute_result",
          "data": {
            "text/plain": [
              "<keras.callbacks.History at 0x7f8c0eb40550>"
            ]
          },
          "metadata": {},
          "execution_count": 24
        }
      ]
    },
    {
      "cell_type": "code",
      "source": [
        "model.evaluate(test_ds)"
      ],
      "metadata": {
        "colab": {
          "base_uri": "https://localhost:8080/"
        },
        "id": "gzNRtXUXoM4B",
        "outputId": "4d4abc4a-e5e6-45ab-bc8b-f25c89630769"
      },
      "execution_count": null,
      "outputs": [
        {
          "output_type": "stream",
          "name": "stdout",
          "text": [
            "312/312 [==============================] - 405s 1s/step - loss: 2.2975 - accuracy: 0.1289\n"
          ]
        },
        {
          "output_type": "execute_result",
          "data": {
            "text/plain": [
              "[2.297537088394165, 0.12890625]"
            ]
          },
          "metadata": {},
          "execution_count": 27
        }
      ]
    },
    {
      "cell_type": "markdown",
      "source": [
        "The custom implemented AlexNet network that was trained, validated, and evaluated on the mnist dataset to create a model with an evaluation accuracy of 12% on a test dataset containing 50 data points."
      ],
      "metadata": {
        "id": "Nm-PQ6C1oMV5"
      }
    },
    {
      "cell_type": "markdown",
      "source": [
        "AlexNet Complete\n"
      ],
      "metadata": {
        "id": "1gXZgYB_q_4L"
      }
    }
  ]
}